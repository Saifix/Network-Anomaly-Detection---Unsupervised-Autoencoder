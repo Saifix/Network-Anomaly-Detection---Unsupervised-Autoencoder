{
 "cells": [
  {
   "cell_type": "code",
   "execution_count": 3,
   "metadata": {},
   "outputs": [],
   "source": [
    "import numpy as np\n",
    "import tensorflow as tf\n",
    "import opendatasets as od\n",
    "from tensorflow import keras\n",
    "import matplotlib.pyplot as plt\n",
    "from tensorflow.python.keras import layers\n",
    "from sklearn.preprocessing import MinMaxScaler"
   ]
  },
  {
   "cell_type": "code",
   "execution_count": 2,
   "metadata": {},
   "outputs": [
    {
     "name": "stdout",
     "output_type": "stream",
     "text": [
      "Please provide your Kaggle credentials to download this dataset. Learn more: http://bit.ly/kaggle-creds\n",
      "Your Kaggle username:Your Kaggle Key:Downloading nslkdd.zip to .\\nslkdd\n"
     ]
    },
    {
     "name": "stderr",
     "output_type": "stream",
     "text": [
      "100%|██████████| 13.9M/13.9M [00:12<00:00, 1.15MB/s]\n"
     ]
    },
    {
     "name": "stdout",
     "output_type": "stream",
     "text": [
      "\n"
     ]
    }
   ],
   "source": [
    "#od.download(\n",
    "#    'https://www.kaggle.com/datasets/hassan06/nslkdd/data')"
   ]
  },
  {
   "cell_type": "markdown",
   "metadata": {},
   "source": [
    "### Function to load the NSL-KDD dataset (replace with your preferred dataset path)\n"
   ]
  },
  {
   "cell_type": "code",
   "execution_count": 4,
   "metadata": {},
   "outputs": [],
   "source": [
    "def load_nsl_kdd(path):\n",
    "    with open(path, 'r') as f:\n",
    "        data = f.readlines()\n",
    "    X = []\n",
    "    y = []  # Placeholder for labels (unsupervised learning, so y remains empty)\n",
    "    for line in data:\n",
    "        features = line.strip().split(',')\n",
    "        X.append([float(x) for x in features[:-1]])\n",
    "    return np.array(X), np.array(y)  # Return features and empty labels"
   ]
  },
  {
   "cell_type": "markdown",
   "metadata": {},
   "source": [
    "### Load the NSL-KDD dataset (or your preferred dataset)\n"
   ]
  },
  {
   "cell_type": "code",
   "execution_count": null,
   "metadata": {},
   "outputs": [],
   "source": [
    "# Hyperparameter tuning (consider adjusting based on your dataset and hardware)\n",
    "epochs = 30\n",
    "batch_size = 32\n",
    "\n",
    "# Load the NSL-KDD dataset (or your preferred dataset)\n",
    "X_train, _ = load_nsl_kdd('nslkdd/KDDTrain+_20Percent.txt')  # Replace path\n",
    "\n",
    "# Normalize features (consider standardization or min-max scaling based on data distribution)\n",
    "scaler = MinMaxScaler(feature_range=(0, 1))\n",
    "X_train = scaler.fit_transform(X_train)"
   ]
  },
  {
   "cell_type": "code",
   "execution_count": null,
   "metadata": {},
   "outputs": [],
   "source": [
    "# Define the autoencoder model (consider experimenting with different architectures)\n",
    "def create_autoencoder():\n",
    "    inputs = keras.Input(shape=(X_train.shape[1],))\n",
    "    encoded = layers.Dense(32, activation='relu')(inputs)\n",
    "    encoded = layers.Dense(16, activation='relu')(encoded)\n",
    "    decoded = layers.Dense(32, activation='relu')(encoded)\n",
    "    decoded = layers.Dense(X_train.shape[1], activation='sigmoid')(decoded)\n",
    "    autoencoder = keras.Model(inputs=inputs, outputs=decoded)\n",
    "    autoencoder.compile(loss='mse', optimizer='adam')\n",
    "    return autoencoder\n",
    "\n",
    "model = create_autoencoder()\n",
    "\n",
    "# Train the autoencoder\n",
    "model.fit(X_train, X_train, epochs=epochs, batch_size=batch_size, shuffle=True)"
   ]
  },
  {
   "cell_type": "markdown",
   "metadata": {},
   "source": [
    "### Anomaly detection using reconstruction error thresholding"
   ]
  },
  {
   "cell_type": "code",
   "execution_count": null,
   "metadata": {},
   "outputs": [],
   "source": [
    "def detect_anomalies(X_test, threshold):\n",
    "    reconstructed = model.predict(X_test)\n",
    "    reconstruction_errors = np.mean(np.power(X_test - reconstructed, 2), axis=1)\n",
    "    anomaly_indices = np.where(reconstruction_errors > threshold)[0]\n",
    "    return anomaly_indices, reconstruction_errors\n"
   ]
  },
  {
   "cell_type": "markdown",
   "metadata": {},
   "source": [
    "### Evaluate model performance (consider using metrics like precision, recall, F1-score)\n",
    "### ... (implementation details depend on the availability of ground truth labels)"
   ]
  },
  {
   "cell_type": "code",
   "execution_count": null,
   "metadata": {},
   "outputs": [],
   "source": []
  },
  {
   "cell_type": "code",
   "execution_count": null,
   "metadata": {},
   "outputs": [],
   "source": [
    "# Example usage (replace with your test data)\n",
    "X_test, _ = load_nsl_kdd('path/to/NSL-KDD/kddcup.testing.gz')  # Replace path\n",
    "X_test = scaler.transform(X_test)\n",
    "threshold = 0.3  # Adjust threshold based on your dataset and desired sensitivity\n",
    "\n",
    "anomaly_indices, reconstruction_errors = detect_anomalies(X_test, threshold)\n",
    "\n",
    "print(\"Anomaly indices:\", anomaly_indices)\n",
    "print(\"Reconstruction errors:\", reconstruction_errors)"
   ]
  }
 ],
 "metadata": {
  "kernelspec": {
   "display_name": "base",
   "language": "python",
   "name": "python3"
  },
  "language_info": {
   "codemirror_mode": {
    "name": "ipython",
    "version": 3
   },
   "file_extension": ".py",
   "mimetype": "text/x-python",
   "name": "python",
   "nbconvert_exporter": "python",
   "pygments_lexer": "ipython3",
   "version": "3.10.10"
  }
 },
 "nbformat": 4,
 "nbformat_minor": 2
}
